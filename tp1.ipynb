{
 "cells": [
  {
   "metadata": {},
   "cell_type": "markdown",
   "source": "TP 1",
   "id": "9c49ebbd5edb2ede"
  },
  {
   "metadata": {
    "ExecuteTime": {
     "end_time": "2024-09-06T19:37:14.919195Z",
     "start_time": "2024-09-06T19:37:14.315143Z"
    }
   },
   "cell_type": "code",
   "source": [
    "import cv2 as cv\n",
    "import numpy as np\n",
    "import matplotlib.pyplot as plt"
   ],
   "id": "initial_id",
   "outputs": [],
   "execution_count": 2
  },
  {
   "metadata": {},
   "cell_type": "markdown",
   "source": "#### Algoritmo de pasaje a coordenadas cromáticas",
   "id": "cf2c4717c1c45971"
  },
  {
   "metadata": {
    "ExecuteTime": {
     "end_time": "2024-09-06T19:19:25.760818Z",
     "start_time": "2024-09-06T19:19:25.663101Z"
    }
   },
   "cell_type": "code",
   "source": [
    "image_1 = cv.imread('coord_cromatica/CoordCrom_1.png')\n",
    "image_2 = cv.imread('coord_cromatica/CoordCrom_2.png')\n",
    "image_3 = cv.imread('coord_cromatica/CoordCrom_3.png')"
   ],
   "id": "90eff4ee9fb583a8",
   "outputs": [],
   "execution_count": 2
  },
  {
   "metadata": {},
   "cell_type": "code",
   "outputs": [],
   "execution_count": 3,
   "source": [
    "cv.imshow('image', image_1)\n",
    "cv.waitKey(0)\n",
    "cv.destroyAllWindows()"
   ],
   "id": "71911cd1824837f6"
  },
  {
   "metadata": {
    "ExecuteTime": {
     "end_time": "2024-09-06T19:19:35.173663Z",
     "start_time": "2024-09-06T19:19:35.164958Z"
    }
   },
   "cell_type": "code",
   "source": [
    "def chromatic_coord_transform(image: np.array) -> np.array:\n",
    "    # Get divider \n",
    "    rgb_divider = np.sum(image, axis=2)\n",
    "    # Expand array\n",
    "    rgb_divider = rgb_divider[:,:,np.newaxis]\n",
    "    return np.divide(image, rgb_divider, where=rgb_divider != 0)\n",
    "    \n",
    "    "
   ],
   "id": "1da6d369275b6618",
   "outputs": [],
   "execution_count": 3
  },
  {
   "metadata": {
    "jupyter": {
     "is_executing": true
    },
    "ExecuteTime": {
     "start_time": "2024-09-06T19:19:38.975977Z"
    }
   },
   "cell_type": "code",
   "source": [
    "imageChromatic = chromatic_coord_transform(image_1)\n",
    "cv.imshow('imageChromatic', imageChromatic)\n",
    "cv.waitKey(0)\n",
    "cv.destroyAllWindows()"
   ],
   "id": "5a8db4dd72d3470f",
   "outputs": [],
   "execution_count": null
  },
  {
   "metadata": {},
   "cell_type": "markdown",
   "source": "#### Algoritmo White Patch",
   "id": "4a3beae2de2c9b89"
  },
  {
   "metadata": {
    "ExecuteTime": {
     "end_time": "2024-09-06T19:43:19.882258Z",
     "start_time": "2024-09-06T19:42:46.027132Z"
    }
   },
   "cell_type": "code",
   "source": [
    "test_blue_image = cv.imread('white_patch/test_blue.png')\n",
    "print(test_blue_image.shape)\n",
    "cv.imshow('iageWP', test_blue_image)\n",
    "cv.waitKey(0)\n",
    "cv.destroyAllWindows()"
   ],
   "id": "4d58e46355226011",
   "outputs": [
    {
     "name": "stdout",
     "output_type": "stream",
     "text": [
      "(100, 278, 3)\n"
     ]
    }
   ],
   "execution_count": 20
  },
  {
   "metadata": {
    "ExecuteTime": {
     "end_time": "2024-09-06T19:44:00.876336Z",
     "start_time": "2024-09-06T19:44:00.867879Z"
    }
   },
   "cell_type": "code",
   "source": [
    "def white_patch_transform(image: np.array) -> np.array:\n",
    "    # Get RGB max value\n",
    "    rgb_max = np.max(image, axis=(0,1))\n",
    "    if np.any(rgb_max == 255):\n",
    "        rgb_max = np.percentile(image, 95, axis=(0,1))\n",
    "    result_image = (255/rgb_max) * image\n",
    "    return result_image.astype(np.uint8)\n",
    "\n",
    "\n",
    "\n",
    "wp_image = white_patch_transform(test_blue_image)\n"
   ],
   "id": "635229d9df05bfc2",
   "outputs": [],
   "execution_count": 27
  },
  {
   "metadata": {
    "ExecuteTime": {
     "end_time": "2024-09-06T19:44:15.722122Z",
     "start_time": "2024-09-06T19:44:01.711604Z"
    }
   },
   "cell_type": "code",
   "source": [
    "\n",
    "cv.imshow('iageWP', wp_image)\n",
    "cv.waitKey(0)\n",
    "cv.destroyAllWindows()"
   ],
   "id": "a2c450e8bc304781",
   "outputs": [],
   "execution_count": 28
  },
  {
   "metadata": {
    "ExecuteTime": {
     "end_time": "2024-09-06T18:29:35.324060Z",
     "start_time": "2024-09-06T18:29:35.318630Z"
    }
   },
   "cell_type": "code",
   "source": [
    "imageXYZ = cv.cvtColor(image, cv.COLOR_BGR2XYZ)\n",
    "imageRGB = cv.cvtColor(image, cv.COLOR_BGR2RGB)"
   ],
   "id": "2396990a9c12bd98",
   "outputs": [],
   "execution_count": 12
  },
  {
   "metadata": {
    "ExecuteTime": {
     "end_time": "2024-09-06T18:29:43.012570Z",
     "start_time": "2024-09-06T18:29:35.973023Z"
    }
   },
   "cell_type": "code",
   "source": [
    "\n",
    "\n",
    "cv.waitKey(0)\n",
    "cv.destroyAllWindows()"
   ],
   "id": "51ea2c06f3176e5d",
   "outputs": [],
   "execution_count": 13
  },
  {
   "metadata": {
    "ExecuteTime": {
     "end_time": "2024-09-02T01:19:16.423352Z",
     "start_time": "2024-09-02T01:19:12.567069Z"
    }
   },
   "cell_type": "code",
   "source": [
    "imageCoord = np.zeros(imageRGB.shape)\n",
    "for i in range(imageRGB.shape[0]):\n",
    "    for j in range(imageRGB.shape[1]):\n",
    "        XYZ = np.sum(imageRGB[i,j,:])\n",
    "        imageCoord[i,j,:] = imageRGB[i,j,:]/XYZ if XYZ != 0 else 0       \n",
    "imageCoord = imageCoord"
   ],
   "id": "b5507279d9f01482",
   "outputs": [],
   "execution_count": 34
  },
  {
   "metadata": {
    "ExecuteTime": {
     "end_time": "2024-09-06T17:44:14.444780Z",
     "start_time": "2024-09-06T17:44:14.358228Z"
    }
   },
   "cell_type": "code",
   "source": [
    "rgbSum = np.sum(imageRGB, axis=2)\n",
    "print(rgbSum[rgbSum == 0])\n",
    "rgbSum = rgbSum[:,:,np.newaxis]\n",
    "# imageCoordFast = np.where(rgbSum == 0, 0, np.divide(imageRGB, rgbSum, where=rgbSum != 0))\n",
    "imageCoordFast = np.divide(imageRGB, rgbSum, where=rgbSum != 0)\n",
    "\n",
    "print(imageCoordFast[imageCoordFast == 0])\n"
   ],
   "id": "dca508a9e7c8c47a",
   "outputs": [
    {
     "name": "stdout",
     "output_type": "stream",
     "text": [
      "[0 0 0 0 0 0 0 0 0 0 0 0 0 0 0 0 0 0 0 0 0 0 0 0 0 0 0 0 0 0 0 0 0 0 0 0 0\n",
      " 0 0 0 0 0 0 0 0 0 0 0 0 0 0 0 0 0 0 0 0 0 0 0 0 0 0 0 0 0 0 0 0 0 0 0 0 0\n",
      " 0 0 0 0 0 0 0 0 0 0 0 0 0 0 0 0 0 0 0 0 0 0 0 0 0 0 0 0 0 0 0 0 0 0 0 0 0\n",
      " 0 0 0 0 0 0 0 0 0 0 0 0 0 0 0 0 0 0 0 0 0 0 0 0 0 0 0 0 0 0 0 0 0 0 0 0 0\n",
      " 0 0 0 0 0 0 0 0 0 0 0 0 0 0 0 0 0 0 0 0 0 0 0 0 0 0 0 0 0 0 0 0 0 0 0 0 0\n",
      " 0 0 0 0 0 0 0 0 0 0 0 0 0 0 0 0 0 0 0 0 0 0 0 0 0 0 0 0 0 0 0 0 0 0 0 0 0\n",
      " 0 0 0 0 0 0 0 0 0 0 0 0 0 0 0 0 0 0 0 0 0 0 0 0 0 0 0 0 0 0 0 0 0 0 0 0 0\n",
      " 0 0 0 0 0 0 0 0 0 0 0 0 0 0 0 0 0 0 0 0 0 0 0 0 0 0 0 0 0 0 0 0 0 0 0 0 0\n",
      " 0 0 0 0 0 0 0 0 0 0 0 0 0 0 0 0 0 0 0 0 0 0 0 0 0 0 0 0 0 0 0 0 0 0 0 0 0\n",
      " 0 0 0 0 0 0 0 0 0 0 0 0 0 0 0 0 0 0 0 0 0 0 0 0 0 0 0 0 0 0 0 0 0 0 0 0 0\n",
      " 0 0 0 0 0 0 0 0 0 0 0 0 0 0 0 0 0 0 0 0 0 0 0 0 0 0 0 0 0 0 0 0 0 0 0 0 0\n",
      " 0 0 0 0 0 0 0 0 0 0 0 0 0 0 0 0 0 0 0 0 0 0 0 0 0 0 0 0 0 0 0 0 0 0 0 0 0\n",
      " 0 0 0 0 0 0 0 0 0 0 0 0 0 0 0 0 0 0 0 0 0 0 0 0 0 0 0 0 0 0 0 0 0 0 0 0 0\n",
      " 0 0 0 0 0 0 0 0 0 0 0 0 0 0 0 0 0 0 0 0 0 0 0 0 0 0 0 0 0 0 0 0 0 0 0 0 0\n",
      " 0 0 0 0 0 0 0 0 0 0 0 0 0 0 0 0 0 0 0 0 0 0 0 0 0 0 0 0 0 0 0 0 0 0 0 0 0\n",
      " 0 0 0 0 0 0 0 0 0 0 0 0 0 0 0 0 0 0 0 0 0 0 0 0 0 0 0 0 0 0 0 0 0 0 0 0 0\n",
      " 0 0 0 0 0 0 0 0 0 0 0 0 0 0 0 0 0 0 0 0 0 0]\n",
      "[0. 0. 0. ... 0. 0. 0.]\n"
     ]
    }
   ],
   "execution_count": 37
  },
  {
   "metadata": {
    "jupyter": {
     "is_executing": true
    },
    "ExecuteTime": {
     "start_time": "2024-09-06T17:44:53.989085Z"
    }
   },
   "cell_type": "code",
   "source": [
    "cv.imshow('image', imageCoordFast)\n",
    "cv.waitKey(0)\n",
    "cv.destroyAllWindows()"
   ],
   "id": "bb06254d0581b01c",
   "outputs": [],
   "execution_count": null
  },
  {
   "metadata": {},
   "cell_type": "code",
   "outputs": [],
   "execution_count": null,
   "source": "",
   "id": "952c61509a6c840b"
  }
 ],
 "metadata": {
  "kernelspec": {
   "display_name": "Python 3",
   "language": "python",
   "name": "python3"
  },
  "language_info": {
   "codemirror_mode": {
    "name": "ipython",
    "version": 2
   },
   "file_extension": ".py",
   "mimetype": "text/x-python",
   "name": "python",
   "nbconvert_exporter": "python",
   "pygments_lexer": "ipython2",
   "version": "2.7.6"
  }
 },
 "nbformat": 4,
 "nbformat_minor": 5
}
