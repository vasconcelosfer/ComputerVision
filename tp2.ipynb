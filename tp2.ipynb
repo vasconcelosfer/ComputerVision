{
 "cells": [
  {
   "metadata": {
    "ExecuteTime": {
     "end_time": "2024-09-21T14:04:10.246927Z",
     "start_time": "2024-09-21T14:04:09.786649Z"
    }
   },
   "cell_type": "code",
   "source": [
    "import numpy as np\n",
    "import matplotlib\n",
    "import matplotlib.pyplot as plt\n",
    "from matplotlib.backends.backend_agg import FigureCanvasAgg as FigureCanvas\n",
    "\n",
    "import cv2"
   ],
   "id": "fbb001e961757aef",
   "outputs": [],
   "execution_count": 1
  },
  {
   "metadata": {},
   "cell_type": "markdown",
   "source": "### Frequency Domain Image Blur Measure (FM)",
   "id": "d3c1261010ab75c1"
  },
  {
   "metadata": {
    "ExecuteTime": {
     "end_time": "2024-09-24T00:48:44.927206Z",
     "start_time": "2024-09-24T00:48:44.924338Z"
    }
   },
   "cell_type": "code",
   "source": [
    "def compute_fm_score(image: np.array) -> float:\n",
    "    # Step 1: Compute F which is the Fourier Transform representation of image I\n",
    "    f = np.fft.fft2(image)\n",
    "    # Step 2: Find Fc which is obtained by shifting the origin of F to centre.\n",
    "    fc = np.fft.fftshift(f)\n",
    "    # Step 3 Calculate AF = abs (Fc) where AF is the absolute value of the centered Fourier transform of image I.\n",
    "    af = np.abs(fc)\n",
    "    # Step 4: Calculate M = max (AF) where M is the maximum value of the frequency component in F.\n",
    "    m = np.max(af)\n",
    "    # Step 5: Calculate TH = the total number of pixels in F whose pixel value > thres, where thres = M/1000.\n",
    "    threshold = m * 0.001\n",
    "    th = np.sum(af > threshold)\n",
    "    # Step 6: Calculate Image Quality measure (FM) from equation (1).\n",
    "    N, M = image.shape\n",
    "    return th / (N * M)"
   ],
   "id": "a409a8d4eda8d37b",
   "outputs": [],
   "execution_count": 15
  },
  {
   "metadata": {
    "ExecuteTime": {
     "end_time": "2024-09-24T00:48:46.924236Z",
     "start_time": "2024-09-24T00:48:46.921549Z"
    }
   },
   "cell_type": "code",
   "source": [
    "def compute_fm(self, image: np.array) -> float:\n",
    "    # Step 1: Compute F which is the Fourier Transform representation of image I\n",
    "    f = np.fft.fft2(image)\n",
    "    # Step 2: Find Fc which is obtained by shifting the origin of F to centre.\n",
    "    fc = np.fft.fftshift(f)\n",
    "    # Step 3 Calculate AF = abs (Fc) where AF is the absolute value of the centered Fourier transform of image I.\n",
    "    af = np.abs(fc)\n",
    "    # Step 4: Calculate M = max (AF) where M is the maximum value of the frequency component in F.\n",
    "    m = np.max(af)\n",
    "    # Step 5: Calculate TH = the total number of pixels in F whose pixel value > thres, where thres = M/1000.\n",
    "    threshold = m * 0.001\n",
    "    th = np.sum(af > threshold)\n",
    "    # Step 6: Calculate Image Quality measure (FM) from equation (1).\n",
    "    N, M = image.shape\n",
    "    return th / (N * M)"
   ],
   "id": "8cb920d2bfc51735",
   "outputs": [],
   "execution_count": 16
  },
  {
   "metadata": {},
   "cell_type": "code",
   "outputs": [],
   "execution_count": null,
   "source": "",
   "id": "34c28eb10d65bde9"
  },
  {
   "metadata": {
    "ExecuteTime": {
     "end_time": "2024-09-21T14:06:04.376253Z",
     "start_time": "2024-09-21T14:06:04.371475Z"
    }
   },
   "cell_type": "code",
   "source": [
    "class Roi:\n",
    "    def __init__(self, frame_height: int, frame_width: int, roi: float = 1, height: int = 1, width: int = 1) -> None:\n",
    "        if roi > 1 or roi <= 0:\n",
    "            raise ValueError('roi is out of range')\n",
    "\n",
    "        self.roi = roi\n",
    "        self.frame_height = frame_height\n",
    "        self.frame_width = frame_width\n",
    "\n",
    "        if roi == 1:\n",
    "            if height > frame_height or width > frame_width:\n",
    "                raise ValueError('Height/width of the image must be less than the frame height/width')\n",
    "            self.height = height\n",
    "            self.width = width\n",
    "        else:\n",
    "            # Get height and width\n",
    "            self.height = int(frame_height * self.roi)\n",
    "            self.width = int(frame_width * self.roi)\n",
    "\n",
    "        self.y_start = (frame_height - self.height) // 2\n",
    "        self.x_start = (frame_width - self.width) // 2\n",
    "\n",
    "    def apply(self, image: np.array) -> np.array:\n",
    "        return image[self.y_start:self.y_start + self.height, self.x_start:self.x_start + self.width]\n",
    "\n",
    "    def get_focus_matrix(self, nrows: int, ncols: int) -> np.array:\n",
    "        overlay = np.zeros((self.frame_height, self.frame_width, 3), dtype=np.uint8)\n",
    "\n",
    "        # Calcular el tamaño de cada rectángulo\n",
    "        rect_width = self.width // (2 * ncols - 1)\n",
    "        rect_height = self.height // (2 * nrows - 1)\n",
    "\n",
    "        # Para que los rectangulos esten equidistantes calculamos el margen minimo y ajustamos el lado \n",
    "        if rect_width < rect_height:\n",
    "            margin = rect_width\n",
    "            rect_height = (self.height - margin * (nrows - 1)) // nrows\n",
    "        else:\n",
    "            margin = rect_height\n",
    "            rect_width = (self.width - margin * (ncols - 1)) // ncols\n",
    "\n",
    "        # Dibujar la matriz de rectángulos en la capa de superposición\n",
    "        for i in range(nrows):\n",
    "            for j in range(ncols):\n",
    "                # Calcular las coordenadas del rectángulo\n",
    "                x_start = self.x_start + j * (rect_width + margin)\n",
    "                y_start = self.y_start + i * (rect_height + margin)\n",
    "\n",
    "                x_end = x_start + rect_width\n",
    "                y_end = y_start + rect_height\n",
    "                # Dibujar los rectángulos en la capa de superposición (con color verde)\n",
    "                cv2.rectangle(overlay, (x_start, y_start), (x_end, y_end), (0, 255, 0), 2)\n",
    "\n",
    "        return overlay\n"
   ],
   "id": "27bece9def603227",
   "outputs": [],
   "execution_count": 3
  },
  {
   "metadata": {
    "ExecuteTime": {
     "end_time": "2024-09-24T01:28:15.843292Z",
     "start_time": "2024-09-24T01:28:15.840325Z"
    }
   },
   "cell_type": "code",
   "source": [
    "def convert_to_img(value_list: list, image_shape: tuple, total_frames: int):\n",
    "    fig, ax = plt.subplots(figsize=(image_shape[0] / 100, image_shape[1] / 100))\n",
    "    ax.set_xlim(0, total_frames + total_frames * 0.1)\n",
    "    ax.scatter(range(len(value_list)), value_list)\n",
    "\n",
    "    # Convertir el gráfico en un array\n",
    "    canvas = FigureCanvas(fig)\n",
    "    canvas.draw()\n",
    "    plt.close(fig)\n",
    "    width, height = canvas.get_width_height()\n",
    "    # Convertir a un array de NumPy \n",
    "    image = np.frombuffer(canvas.buffer_rgba(), dtype='uint8').reshape((height, width, 4))\n",
    "\n",
    "    # Remove alplha channel and return\n",
    "    return image[:, :, :3]"
   ],
   "id": "8029fc4bc3791241",
   "outputs": [],
   "execution_count": 17
  },
  {
   "metadata": {},
   "cell_type": "markdown",
   "source": "### Medición sobre todo el frame",
   "id": "ac93c7b4d76e16fb"
  },
  {
   "metadata": {
    "ExecuteTime": {
     "end_time": "2024-09-24T01:28:17.135672Z",
     "start_time": "2024-09-24T01:28:17.129790Z"
    }
   },
   "cell_type": "code",
   "source": [
    "class VideoPlayer:\n",
    "\n",
    "    def __init__(self, file: str) -> None:\n",
    "        self.video = cv2.VideoCapture(video_path)\n",
    "        if not self.video.isOpened():\n",
    "            raise IOError('Video\\'s not opened')\n",
    "        self._frame_width = int(self.video.get(cv2.CAP_PROP_FRAME_WIDTH))\n",
    "        self._frame_height = int(self.video.get(cv2.CAP_PROP_FRAME_HEIGHT))\n",
    "        self._frame_count = int(self.video.get(cv2.CAP_PROP_FRAME_COUNT))\n",
    "        self._fps = int(self.video.get(cv2.CAP_PROP_FPS))\n",
    "\n",
    "        self._roi = None\n",
    "        self._is_roi_set = False\n",
    "        self._is_matrix_set = False\n",
    "        self._matrix_row = 3\n",
    "        self._matrix_col = 3\n",
    "        self._current_frame = None\n",
    "\n",
    "    def set_roi(self, roi: float = 1, height: int = 1, width: int = 1, matrix: bool = False, nrows: int = 3,\n",
    "                ncols: int = 3) -> None:\n",
    "        # If there was a roi, delete it\n",
    "        self.unset_roi()\n",
    "        self._roi = Roi(self._frame_height, self._frame_width, roi=roi, height=height, width=width)\n",
    "        self._is_roi_set = True\n",
    "        self._is_matrix_set = matrix\n",
    "        self._matrix_row = nrows\n",
    "        self._matrix_col = ncols\n",
    "\n",
    "    def unset_roi(self):\n",
    "        if self._is_roi_set and self._roi:\n",
    "            del self._is_roi_set\n",
    "            self._is_roi_set = False\n",
    "            self._is_matrix_set = False\n",
    "\n",
    "    @property\n",
    "    def is_roi_set(self):\n",
    "        return self._is_roi_set\n",
    "\n",
    "    @property\n",
    "    def shape(self):\n",
    "        return self._frame_height, self._frame_width\n",
    "\n",
    "    @property\n",
    "    def fps(self):\n",
    "        return self._fps\n",
    "\n",
    "    @fps.setter\n",
    "    def fps(self, value):\n",
    "        self._fps = value\n",
    "\n",
    "    @property\n",
    "    def frame_count(self):\n",
    "        return self._frame_count\n",
    "\n",
    "    @frame_count.setter\n",
    "    def frame_count(self, value):\n",
    "        self._frame_count = value\n",
    "\n",
    "    def get_frame(self) -> np.array:\n",
    "        ret, self._current_frame = self.video.read()\n",
    "        if not ret:\n",
    "            return None\n",
    "\n",
    "        if self._is_matrix_set:\n",
    "            focus_matrix = self._roi.get_focus_matrix(self._matrix_row, self._matrix_col)\n",
    "            frame = cv2.bitwise_or(focus_matrix, self._current_frame)\n",
    "            return frame\n",
    "\n",
    "        return self._current_frame\n",
    "\n",
    "    def get_roi_frame(self) -> np.array:\n",
    "        if not self._is_roi_set:\n",
    "            return self._current_frame\n",
    "        return self._roi.apply(self._current_frame)\n",
    "\n",
    "    def release(self):\n",
    "        self.video.release()\n",
    "\n"
   ],
   "id": "ce8e091b9a6e8891",
   "outputs": [],
   "execution_count": 18
  },
  {
   "metadata": {
    "ExecuteTime": {
     "end_time": "2024-09-24T01:28:18.575478Z",
     "start_time": "2024-09-24T01:28:18.552477Z"
    }
   },
   "cell_type": "code",
   "source": [
    "matplotlib.use('Agg')\n",
    "# Abre el video\n",
    "video_path = 'video/focus_video.mov'\n",
    "video_player = VideoPlayer(video_path)\n",
    "video_player.set_roi(roi=0.2, matrix=True, nrows=5, ncols=5)\n",
    "\n",
    "fm_score_list = list()\n",
    "\n",
    "delay = int(600 / video_player.fps)\n",
    "\n",
    "while True:\n",
    "    frame = video_player.get_frame()\n",
    "    if frame is None:\n",
    "        break\n",
    "\n",
    "    # Obtenemos la medicion    \n",
    "    fm_score_list.append(compute_fm(cv2.cvtColor(video_player.get_roi_frame(), cv2.COLOR_BGR2GRAY)))\n",
    "\n",
    "    # Combina el frame original y la gráfica de la medicion del blur\n",
    "    img_frame = convert_to_img(fm_score_list, video_player.shape, video_player.frame_count)\n",
    "    frame_combined = np.hstack((frame, img_frame))\n",
    "    # Mostrar el frame combinado\n",
    "    cv2.imshow('Video', frame_combined)\n",
    "\n",
    "    # Salir del loop si se presiona la tecla 'q'\n",
    "    if cv2.waitKey(delay) & 0xFF == ord('q'):\n",
    "        break\n",
    "\n",
    "# Libera el objeto de captura de video y cierra todas las ventanas\n",
    "video_player.release()\n",
    "cv2.waitKey(0)\n",
    "cv2.destroyAllWindows()\n",
    "%matplotlib inline"
   ],
   "id": "787747f4d84965fb",
   "outputs": [
    {
     "ename": "TypeError",
     "evalue": "compute_fm() missing 1 required positional argument: 'image'",
     "output_type": "error",
     "traceback": [
      "\u001B[0;31m---------------------------------------------------------------------------\u001B[0m",
      "\u001B[0;31mTypeError\u001B[0m                                 Traceback (most recent call last)",
      "Cell \u001B[0;32mIn[19], line 17\u001B[0m\n\u001B[1;32m     14\u001B[0m     \u001B[38;5;28;01mbreak\u001B[39;00m\n\u001B[1;32m     16\u001B[0m \u001B[38;5;66;03m# Obtenemos la medicion    \u001B[39;00m\n\u001B[0;32m---> 17\u001B[0m fm_score_list\u001B[38;5;241m.\u001B[39mappend(compute_fm(cv2\u001B[38;5;241m.\u001B[39mcvtColor(video_player\u001B[38;5;241m.\u001B[39mget_roi_frame(), cv2\u001B[38;5;241m.\u001B[39mCOLOR_BGR2GRAY)))\n\u001B[1;32m     19\u001B[0m \u001B[38;5;66;03m# Combina el frame original y la gráfica de la medicion del blur\u001B[39;00m\n\u001B[1;32m     20\u001B[0m img_frame \u001B[38;5;241m=\u001B[39m convert_to_img(fm_score_list, video_player\u001B[38;5;241m.\u001B[39mshape, video_player\u001B[38;5;241m.\u001B[39mframe_count)\n",
      "\u001B[0;31mTypeError\u001B[0m: compute_fm() missing 1 required positional argument: 'image'"
     ]
    }
   ],
   "execution_count": 19
  },
  {
   "metadata": {
    "ExecuteTime": {
     "end_time": "2024-09-20T19:28:31.883213Z",
     "start_time": "2024-09-20T19:28:31.731857Z"
    }
   },
   "cell_type": "code",
   "source": [
    "matplotlib.use('Agg')\n",
    "# Abre el video\n",
    "video_path = 'video/focus_video.mov'\n",
    "captura_video = cv2.VideoCapture(video_path)\n",
    "\n",
    "fm_score_list = list()\n",
    "\n",
    "if not captura_video.isOpened():\n",
    "    print(\"Error al abrir el archivo de video\")\n",
    "else:\n",
    "    # Obtén las dimensiones del video\n",
    "    frame_width = int(captura_video.get(cv2.CAP_PROP_FRAME_WIDTH))\n",
    "    frame_height = int(captura_video.get(cv2.CAP_PROP_FRAME_HEIGHT))\n",
    "    total_frames = int(captura_video.get(cv2.CAP_PROP_FRAME_COUNT))\n",
    "\n",
    "    # Obtén la tasa de cuadros (frame rate) del video\n",
    "    fps = int(captura_video.get(cv2.CAP_PROP_FPS))\n",
    "    #fps = 35\n",
    "    # delay = int(100 / fps)\n",
    "    delay = 0\n",
    "    roi = Roi(frame_height, frame_width, height=200, width=200)\n",
    "    focus_matrix = roi.get_focus_matrix(7, 7)\n",
    "\n",
    "    while True:\n",
    "        ret, frame = captura_video.read()\n",
    "        if not ret:\n",
    "            break\n",
    "\n",
    "        # Obtenemos la medicion    \n",
    "        fm_score_list.append(get_fm_score(roi.apply(cv2.cvtColor(frame, cv2.COLOR_BGR2GRAY))))\n",
    "\n",
    "        frame = cv2.bitwise_or(focus_matrix, frame)\n",
    "        # Combina el frame original y la gráfica de la medicion del blur\n",
    "        img_frame = convert_to_img(fm_score_list, (frame_height, frame_width), total_frames)\n",
    "        frame_combined = np.hstack((frame, img_frame))\n",
    "        # Mostrar el frame combinado\n",
    "        cv2.imshow('Video', frame_combined)\n",
    "\n",
    "        # Salir del loop si se presiona la tecla 'q'\n",
    "        if cv2.waitKey(delay) & 0xFF == ord('q'):\n",
    "            break\n",
    "\n",
    "# Libera el objeto de captura de video y cierra todas las ventanas\n",
    "captura_video.release()\n",
    "cv2.waitKey(0)\n",
    "cv2.destroyAllWindows()\n",
    "%matplotlib inline\n"
   ],
   "id": "initial_id",
   "outputs": [
    {
     "ename": "ValueError",
     "evalue": "all the input array dimensions except for the concatenation axis must match exactly, but along dimension 0, the array at index 0 has size 360 and the array at index 1 has size 640",
     "output_type": "error",
     "traceback": [
      "\u001B[0;31m---------------------------------------------------------------------------\u001B[0m",
      "\u001B[0;31mValueError\u001B[0m                                Traceback (most recent call last)",
      "Cell \u001B[0;32mIn[20], line 35\u001B[0m\n\u001B[1;32m     33\u001B[0m \u001B[38;5;66;03m# Combina el frame original y la gráfica de la medicion del blur\u001B[39;00m\n\u001B[1;32m     34\u001B[0m img_frame \u001B[38;5;241m=\u001B[39m convert_to_img(fm_score_list, (frame_height, frame_width), total_frames)\n\u001B[0;32m---> 35\u001B[0m frame_combined \u001B[38;5;241m=\u001B[39m \u001B[43mnp\u001B[49m\u001B[38;5;241;43m.\u001B[39;49m\u001B[43mhstack\u001B[49m\u001B[43m(\u001B[49m\u001B[43m(\u001B[49m\u001B[43mframe\u001B[49m\u001B[43m,\u001B[49m\u001B[43m \u001B[49m\u001B[43mimg_frame\u001B[49m\u001B[43m)\u001B[49m\u001B[43m)\u001B[49m\n\u001B[1;32m     36\u001B[0m \u001B[38;5;66;03m# Mostrar el frame combinado\u001B[39;00m\n\u001B[1;32m     37\u001B[0m cv2\u001B[38;5;241m.\u001B[39mimshow(\u001B[38;5;124m'\u001B[39m\u001B[38;5;124mVideo\u001B[39m\u001B[38;5;124m'\u001B[39m, frame_combined)\n",
      "File \u001B[0;32m<__array_function__ internals>:200\u001B[0m, in \u001B[0;36mhstack\u001B[0;34m(*args, **kwargs)\u001B[0m\n",
      "File \u001B[0;32m~/miniconda3/envs/conda3_11/lib/python3.8/site-packages/numpy/core/shape_base.py:370\u001B[0m, in \u001B[0;36mhstack\u001B[0;34m(tup, dtype, casting)\u001B[0m\n\u001B[1;32m    368\u001B[0m     \u001B[38;5;28;01mreturn\u001B[39;00m _nx\u001B[38;5;241m.\u001B[39mconcatenate(arrs, \u001B[38;5;241m0\u001B[39m, dtype\u001B[38;5;241m=\u001B[39mdtype, casting\u001B[38;5;241m=\u001B[39mcasting)\n\u001B[1;32m    369\u001B[0m \u001B[38;5;28;01melse\u001B[39;00m:\n\u001B[0;32m--> 370\u001B[0m     \u001B[38;5;28;01mreturn\u001B[39;00m \u001B[43m_nx\u001B[49m\u001B[38;5;241;43m.\u001B[39;49m\u001B[43mconcatenate\u001B[49m\u001B[43m(\u001B[49m\u001B[43marrs\u001B[49m\u001B[43m,\u001B[49m\u001B[43m \u001B[49m\u001B[38;5;241;43m1\u001B[39;49m\u001B[43m,\u001B[49m\u001B[43m \u001B[49m\u001B[43mdtype\u001B[49m\u001B[38;5;241;43m=\u001B[39;49m\u001B[43mdtype\u001B[49m\u001B[43m,\u001B[49m\u001B[43m \u001B[49m\u001B[43mcasting\u001B[49m\u001B[38;5;241;43m=\u001B[39;49m\u001B[43mcasting\u001B[49m\u001B[43m)\u001B[49m\n",
      "File \u001B[0;32m<__array_function__ internals>:200\u001B[0m, in \u001B[0;36mconcatenate\u001B[0;34m(*args, **kwargs)\u001B[0m\n",
      "\u001B[0;31mValueError\u001B[0m: all the input array dimensions except for the concatenation axis must match exactly, but along dimension 0, the array at index 0 has size 360 and the array at index 1 has size 640"
     ]
    }
   ],
   "execution_count": 20
  },
  {
   "metadata": {
    "ExecuteTime": {
     "end_time": "2024-09-19T23:20:07.245059Z",
     "start_time": "2024-09-19T23:20:07.241907Z"
    }
   },
   "cell_type": "code",
   "source": "fm_score_list.index(max(fm_score_list)) + 1",
   "id": "b2d646cdc983a9cd",
   "outputs": [
    {
     "data": {
      "text/plain": [
       "102"
      ]
     },
     "execution_count": 42,
     "metadata": {},
     "output_type": "execute_result"
    }
   ],
   "execution_count": 42
  },
  {
   "metadata": {
    "ExecuteTime": {
     "end_time": "2024-09-15T13:54:11.646767Z",
     "start_time": "2024-09-15T13:54:11.567871Z"
    }
   },
   "cell_type": "code",
   "source": [
    "\n",
    "%matplotlib inline\n",
    "plt.plot(fm_score_list)\n",
    "plt.show()\n",
    "max(fm_score_list)"
   ],
   "id": "9012819dc5785ece",
   "outputs": [
    {
     "data": {
      "text/plain": [
       "<Figure size 640x480 with 1 Axes>"
      ],
      "image/png": "[encoded data removed]"
     },
     "metadata": {},
     "output_type": "display_data"
    },
    {
     "data": {
      "text/plain": [
       "0.028624131944444443"
      ]
     },
     "execution_count": 91,
     "metadata": {},
     "output_type": "execute_result"
    }
   ],
   "execution_count": 91
  },
  {
   "metadata": {
    "ExecuteTime": {
     "end_time": "2024-09-15T13:52:54.745952Z",
     "start_time": "2024-09-15T13:52:54.744069Z"
    }
   },
   "cell_type": "code",
   "source": "",
   "id": "b1c7b52a0a0895c1",
   "outputs": [],
   "execution_count": 85
  },
  {
   "metadata": {},
   "cell_type": "code",
   "outputs": [],
   "execution_count": null,
   "source": "",
   "id": "bf790ae5d527ff65"
  }
 ],
 "metadata": {
  "kernelspec": {
   "display_name": "Python 3",
   "language": "python",
   "name": "python3"
  },
  "language_info": {
   "codemirror_mode": {
    "name": "ipython",
    "version": 2
   },
   "file_extension": ".py",
   "mimetype": "text/x-python",
   "name": "python",
   "nbconvert_exporter": "python",
   "pygments_lexer": "ipython2",
   "version": "2.7.6"
  }
 },
 "nbformat": 4,
 "nbformat_minor": 5
}
